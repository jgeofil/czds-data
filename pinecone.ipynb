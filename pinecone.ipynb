{
 "cells": [
  {
   "cell_type": "code",
   "execution_count": 1,
   "metadata": {},
   "outputs": [
    {
     "name": "stdout",
     "output_type": "stream",
     "text": [
      "Collecting pinecone-client\n",
      "  Using cached pinecone_client-3.0.0-py3-none-any.whl.metadata (12 kB)\n",
      "Requirement already satisfied: certifi>=2019.11.17 in /home/jeremygf/git/ml-notebooks/.venv/lib/python3.11/site-packages (from pinecone-client) (2023.11.17)\n",
      "Requirement already satisfied: tqdm>=4.64.1 in /home/jeremygf/git/ml-notebooks/.venv/lib/python3.11/site-packages (from pinecone-client) (4.66.1)\n",
      "Requirement already satisfied: typing-extensions>=3.7.4 in /home/jeremygf/git/ml-notebooks/.venv/lib/python3.11/site-packages (from pinecone-client) (4.9.0)\n",
      "Requirement already satisfied: urllib3>=1.26.0 in /home/jeremygf/git/ml-notebooks/.venv/lib/python3.11/site-packages (from pinecone-client) (2.1.0)\n",
      "Using cached pinecone_client-3.0.0-py3-none-any.whl (199 kB)\n",
      "Installing collected packages: pinecone-client\n",
      "Successfully installed pinecone-client-3.0.0\n"
     ]
    }
   ],
   "source": [
    "!pip install pinecone-client"
   ]
  },
  {
   "cell_type": "code",
   "execution_count": 9,
   "metadata": {},
   "outputs": [
    {
     "name": "stdout",
     "output_type": "stream",
     "text": [
      "Pinecone API key: ...4d9\n"
     ]
    }
   ],
   "source": [
    "from dotenv import load_dotenv\n",
    "\n",
    "load_dotenv()\n",
    "\n",
    "PINECONE_API_KEY = os.getenv(\"PINECONE_API_KEY\")\n",
    "print(f'Pinecone API key: ...{PINECONE_API_KEY[-3:]}')"
   ]
  },
  {
   "cell_type": "code",
   "execution_count": 12,
   "metadata": {},
   "outputs": [],
   "source": [
    "from pinecone import Pinecone, ServerlessSpec\n",
    "\n",
    "pc = Pinecone(api_key=PINECONE_API_KEY)"
   ]
  },
  {
   "cell_type": "code",
   "execution_count": 11,
   "metadata": {},
   "outputs": [
    {
     "data": {
      "text/plain": [
       "{'indexes': []}"
      ]
     },
     "execution_count": 11,
     "metadata": {},
     "output_type": "execute_result"
    }
   ],
   "source": [
    "active_indexes = pc.list_indexes()\n",
    "active_indexes"
   ]
  },
  {
   "cell_type": "code",
   "execution_count": 13,
   "metadata": {},
   "outputs": [],
   "source": [
    "pc.create_index(\n",
    "    name='domains', \n",
    "    dimension=1024, \n",
    "    metric=\"cosine\", \n",
    "    spec=ServerlessSpec(cloud=\"aws\", region=\"us-west-2\")\n",
    ")"
   ]
  },
  {
   "cell_type": "code",
   "execution_count": 16,
   "metadata": {},
   "outputs": [
    {
     "data": {
      "text/plain": [
       "{'dimension': 1024,\n",
       " 'host': 'domains-ej2klm0.svc.apw5-4e34-81fa.pinecone.io',\n",
       " 'metric': 'cosine',\n",
       " 'name': 'domains',\n",
       " 'spec': {'serverless': {'cloud': 'aws', 'region': 'us-west-2'}},\n",
       " 'status': {'ready': True, 'state': 'Ready'}}"
      ]
     },
     "execution_count": 16,
     "metadata": {},
     "output_type": "execute_result"
    }
   ],
   "source": [
    "index_description = pc.describe_index('domains')\n",
    "index_description"
   ]
  }
 ],
 "metadata": {
  "kernelspec": {
   "display_name": ".venv",
   "language": "python",
   "name": "python3"
  },
  "language_info": {
   "codemirror_mode": {
    "name": "ipython",
    "version": 3
   },
   "file_extension": ".py",
   "mimetype": "text/x-python",
   "name": "python",
   "nbconvert_exporter": "python",
   "pygments_lexer": "ipython3",
   "version": "3.11.7"
  }
 },
 "nbformat": 4,
 "nbformat_minor": 2
}
